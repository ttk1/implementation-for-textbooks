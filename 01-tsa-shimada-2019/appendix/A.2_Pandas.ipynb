{
 "cells": [
  {
   "cell_type": "code",
   "execution_count": 1,
   "metadata": {},
   "outputs": [],
   "source": [
    "%matplotlib inline\n",
    "import numpy as np\n",
    "np.random.seed(555)\n",
    "import matplotlib.pyplot as plt\n",
    "import pandas as pd"
   ]
  },
  {
   "cell_type": "markdown",
   "metadata": {},
   "source": [
    "# データIO"
   ]
  },
  {
   "cell_type": "code",
   "execution_count": 2,
   "metadata": {},
   "outputs": [
    {
     "name": "stdout",
     "output_type": "stream",
     "text": [
      "0.000000000000000000e+00,1.000000000000000000e+00,2.000000000000000000e+00\n",
      "3.000000000000000000e+00,4.000000000000000000e+00,5.000000000000000000e+00\n",
      "6.000000000000000000e+00,7.000000000000000000e+00,8.000000000000000000e+00\n"
     ]
    }
   ],
   "source": [
    "# Pandasで読み出すファイルの内容を見ておく\n",
    "# test.csvはヘッダーなし\n",
    "!cat test.csv"
   ]
  },
  {
   "cell_type": "code",
   "execution_count": 3,
   "metadata": {},
   "outputs": [
    {
     "name": "stdout",
     "output_type": "stream",
     "text": [
      "<class 'pandas.core.frame.DataFrame'>\n"
     ]
    }
   ],
   "source": [
    "df = pd.read_csv('test.csv', header=None)\n",
    "print(type(df))"
   ]
  },
  {
   "cell_type": "code",
   "execution_count": 4,
   "metadata": {},
   "outputs": [
    {
     "name": "stdout",
     "output_type": "stream",
     "text": [
      "     0    1    2\n",
      "0  0.0  1.0  2.0\n",
      "1  3.0  4.0  5.0\n",
      "2  6.0  7.0  8.0\n"
     ]
    }
   ],
   "source": [
    "print(df)"
   ]
  },
  {
   "cell_type": "code",
   "execution_count": 5,
   "metadata": {},
   "outputs": [
    {
     "name": "stdout",
     "output_type": "stream",
     "text": [
      "c1,c2,c3\n",
      "0.000000000000000000e+00,1.000000000000000000e+00,2.000000000000000000e+00\n",
      "3.000000000000000000e+00,4.000000000000000000e+00,5.000000000000000000e+00\n",
      "6.000000000000000000e+00,7.000000000000000000e+00,8.000000000000000000e+00\n"
     ]
    }
   ],
   "source": [
    "# test_header.csvはヘッダーあり\n",
    "!cat test_header.csv"
   ]
  },
  {
   "cell_type": "code",
   "execution_count": 7,
   "metadata": {},
   "outputs": [
    {
     "name": "stdout",
     "output_type": "stream",
     "text": [
      "    c1   c2   c3\n",
      "0  0.0  1.0  2.0\n",
      "1  3.0  4.0  5.0\n",
      "2  6.0  7.0  8.0\n"
     ]
    }
   ],
   "source": [
    "df = pd.read_csv('test_header.csv')\n",
    "print(df)"
   ]
  },
  {
   "cell_type": "code",
   "execution_count": 8,
   "metadata": {},
   "outputs": [],
   "source": [
    "df.to_csv('output.csv', index=False)  # , header=False)"
   ]
  },
  {
   "cell_type": "code",
   "execution_count": 9,
   "metadata": {},
   "outputs": [
    {
     "name": "stdout",
     "output_type": "stream",
     "text": [
      "c1,c2,c3\n",
      "0.0,1.0,2.0\n",
      "3.0,4.0,5.0\n",
      "6.0,7.0,8.0\n"
     ]
    }
   ],
   "source": [
    "# 出力したoutput.csvの内容確認\n",
    "!cat output.csv"
   ]
  },
  {
   "cell_type": "markdown",
   "metadata": {},
   "source": [
    "# データ操作の基本"
   ]
  },
  {
   "cell_type": "code",
   "execution_count": 10,
   "metadata": {},
   "outputs": [
    {
     "name": "stdout",
     "output_type": "stream",
     "text": [
      "          c1\n",
      "0   0.148227\n",
      "1   0.353487\n",
      "2  -1.087250\n",
      "3   0.247096\n",
      "4  -0.156840\n",
      "5   0.437086\n",
      "6  -0.846221\n",
      "7   2.166546\n",
      "8   0.334282\n",
      "9  -0.377876\n",
      "10  0.596387\n",
      "11  2.053356\n",
      "12 -0.040022\n",
      "13 -0.576821\n",
      "14 -0.060936\n",
      "15  0.997778\n",
      "16  1.775045\n",
      "17 -1.337874\n",
      "18  0.798311\n",
      "19 -1.762909\n"
     ]
    }
   ],
   "source": [
    "ts_data = np.random.randn(20)\n",
    "df = pd.DataFrame(ts_data, columns=['c1'])\n",
    "print(df)"
   ]
  },
  {
   "cell_type": "code",
   "execution_count": 11,
   "metadata": {},
   "outputs": [
    {
     "name": "stdout",
     "output_type": "stream",
     "text": [
      "          c1\n",
      "0        NaN\n",
      "1        NaN\n",
      "2        NaN\n",
      "3  -0.084610\n",
      "4  -0.160877\n",
      "5  -0.139977\n",
      "6  -0.079720\n",
      "7   0.400143\n",
      "8   0.522923\n",
      "9   0.319182\n",
      "10  0.679835\n",
      "11  0.651537\n",
      "12  0.557961\n",
      "13  0.508225\n",
      "14  0.343894\n",
      "15  0.080000\n",
      "16  0.533766\n",
      "17  0.343503\n",
      "18  0.558315\n",
      "19 -0.131857\n"
     ]
    }
   ],
   "source": [
    "# rollingで4時点ずつのデータを保持\n",
    "# その後4時点ずつのデータに対してmean()で平均値を計算\n",
    "move_avg = df.rolling(window=4).mean() \n",
    "print(move_avg)"
   ]
  },
  {
   "cell_type": "code",
   "execution_count": 12,
   "metadata": {},
   "outputs": [
    {
     "name": "stdout",
     "output_type": "stream",
     "text": [
      "          c1\n",
      "0        NaN\n",
      "1        NaN\n",
      "2        NaN\n",
      "3  -0.084610\n",
      "4  -0.160877\n",
      "5  -0.139977\n",
      "6  -0.079720\n",
      "7   0.400143\n",
      "8   0.522923\n",
      "9   0.319182\n",
      "10  0.679835\n",
      "11  0.651537\n",
      "12  0.557961\n",
      "13  0.508225\n",
      "14  0.343894\n",
      "15  0.080000\n",
      "16  0.533766\n",
      "17  0.343503\n",
      "18  0.558315\n",
      "19 -0.131857\n"
     ]
    },
    {
     "name": "stderr",
     "output_type": "stream",
     "text": [
      "C:\\Users\\sh70k\\Anaconda3\\envs\\tsbook\\lib\\site-packages\\ipykernel_launcher.py:2: FutureWarning: Currently, 'apply' passes the values as ndarrays to the applied function. In the future, this will change to passing it as Series objects. You need to specify 'raw=True' to keep the current behaviour, and you can pass 'raw=False' to silence this warning\n",
      "  \n"
     ]
    }
   ],
   "source": [
    "# 同じ操作をapply()を使って実行\n",
    "move_avg = df.rolling(window=4).apply(np.mean)\n",
    "print(move_avg)"
   ]
  },
  {
   "cell_type": "code",
   "execution_count": 13,
   "metadata": {},
   "outputs": [
    {
     "name": "stdout",
     "output_type": "stream",
     "text": [
      "          c1\n",
      "0  -0.084610\n",
      "1  -0.160877\n",
      "2  -0.139977\n",
      "3  -0.079720\n",
      "4   0.400143\n",
      "5   0.522923\n",
      "6   0.319182\n",
      "7   0.679835\n",
      "8   0.651537\n",
      "9   0.557961\n",
      "10  0.508225\n",
      "11  0.343894\n",
      "12  0.080000\n",
      "13  0.533766\n",
      "14  0.343503\n",
      "15  0.558315\n",
      "16 -0.131857\n"
     ]
    }
   ],
   "source": [
    "# NaNを消去してindexを初期化する\n",
    "dna_move_avg = move_avg.dropna().reset_index(drop=True)\n",
    "print(dna_move_avg)"
   ]
  },
  {
   "cell_type": "code",
   "execution_count": 14,
   "metadata": {},
   "outputs": [
    {
     "name": "stdout",
     "output_type": "stream",
     "text": [
      "          c1\n",
      "0   0.205259\n",
      "1  -1.440736\n",
      "2   1.334346\n",
      "3  -0.403936\n",
      "4   0.593926\n",
      "5  -1.283308\n",
      "6   3.012767\n",
      "7  -1.832264\n",
      "8  -0.712158\n",
      "9   0.974263\n",
      "10  1.456969\n",
      "11 -2.093379\n",
      "12 -0.536799\n",
      "13  0.515885\n",
      "14  1.058714\n",
      "15  0.777266\n",
      "16 -3.112919\n",
      "17  2.136185\n",
      "18 -2.561219\n"
     ]
    }
   ],
   "source": [
    "# 1次階差をとってNaNを消去してindexを初期化する\n",
    "df_diff = df.diff().dropna().reset_index(drop=True)\n",
    "print(df_diff)"
   ]
  },
  {
   "cell_type": "markdown",
   "metadata": {},
   "source": [
    "# 可視化"
   ]
  },
  {
   "cell_type": "code",
   "execution_count": 15,
   "metadata": {},
   "outputs": [
    {
     "data": {
      "text/plain": [
       "<matplotlib.axes._subplots.AxesSubplot at 0x215e40eaf98>"
      ]
     },
     "execution_count": 15,
     "metadata": {},
     "output_type": "execute_result"
    },
    {
     "data": {
      "image/png": "[encoded data removed]",
      "text/plain": [
       "<Figure size 432x288 with 1 Axes>"
      ]
     },
     "metadata": {
      "needs_background": "light"
     },
     "output_type": "display_data"
    }
   ],
   "source": [
    "# 上で作成した1次階差系列の表示\n",
    "df_diff.plot()"
   ]
  },
  {
   "cell_type": "code",
   "execution_count": null,
   "metadata": {
    "collapsed": true
   },
   "outputs": [],
   "source": []
  }
 ],
 "metadata": {
  "kernelspec": {
   "display_name": "Python 3",
   "language": "python",
   "name": "python3"
  },
  "language_info": {
   "codemirror_mode": {
    "name": "ipython",
    "version": 3
   },
   "file_extension": ".py",
   "mimetype": "text/x-python",
   "name": "python",
   "nbconvert_exporter": "python",
   "pygments_lexer": "ipython3",
   "version": "3.7.3"
  }
 },
 "nbformat": 4,
 "nbformat_minor": 2
}
