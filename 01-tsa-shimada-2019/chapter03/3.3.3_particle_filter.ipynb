{
 "cells": [
  {
   "cell_type": "code",
   "execution_count": 1,
   "metadata": {},
   "outputs": [],
   "source": [
    "%matplotlib inline\n",
    "import numpy as np\n",
    "np.random.seed(555)\n",
    "import matplotlib.pyplot as plt\n",
    "import pandas as pd"
   ]
  },
  {
   "cell_type": "code",
   "execution_count": 2,
   "metadata": {},
   "outputs": [],
   "source": [
    "from scipy.stats import multivariate_normal\n",
    "from numpy.random import uniform\n",
    "\n",
    "\n",
    "class GaussianNoise(object):\n",
    "    \"\"\"多次元ガウス分布\n",
    "    \"\"\"\n",
    "    def __init__(self, covariance):\n",
    "        self.covariance = covariance\n",
    "        self.n_state = len(covariance)\n",
    "\n",
    "    def generate(self, n_particles):\n",
    "        \"\"\"ノイズの生成\n",
    "        \"\"\"\n",
    "        return (multivariate_normal.rvs(np.zeros(self.n_state), \n",
    "                                        self.covariance, n_particles).T)\n",
    "        \n",
    "    def pdf(self, y, predicted_obs):\n",
    "        \"\"\"確率密度\n",
    "        \"\"\"\n",
    "        r_y = y.reshape(y.size)\n",
    "        likelihoods = np.empty(predicted_obs.shape[1])\n",
    "        for i, pred_y in enumerate(predicted_obs.T):\n",
    "            likelihoods[i] = multivariate_normal.pdf(r_y, \n",
    "                                                     pred_y, \n",
    "                                                     cov=self.covariance)\n",
    "        return likelihoods\n",
    "\n",
    "\n",
    "class ParticleFilter(object):\n",
    "    def __init__(self, \n",
    "                 n_dim_state=None, n_dim_obs=None,\n",
    "                 transition_func=None, observation_func=None,\n",
    "                 system_noise=None, observation_noise=None, \n",
    "                 n_particles=None):\n",
    "        # 観測データの次元数\n",
    "        self.n_dim_obs = n_dim_obs\n",
    "        # 粒子の数\n",
    "        self.n_particles = n_particles\n",
    "        # リサンプリングに使用するクシ（使い回す）\n",
    "        self.TEETH = np.arange(0, 1, float(1.0)/n_particles)\n",
    "        # 粒子の単位質量（観測データへの適合度）\n",
    "        self.weights = np.zeros(n_particles)\n",
    "        # 粒子\n",
    "        self.particles = np.zeros((n_dim_state, n_particles))\n",
    "        # 予測分布（粒子）\n",
    "        self.predicted_particles = np.zeros((n_dim_state, n_particles))\n",
    "\n",
    "        # F(), H()は引数として関数オブジェクトを与える\n",
    "        # v, wは引数としてインスタンスオブジェクトを与える\n",
    "        self.transition_func = transition_func\n",
    "        self.observation_func = observation_func\n",
    "        self.system_noise = system_noise\n",
    "        self.observation_noise = observation_noise\n",
    "\n",
    "        # 初期粒子の生成\n",
    "        self._init_praticles_distribution()\n",
    "\n",
    "    def _init_praticles_distribution(self):\n",
    "        \"\"\"粒子の初期化\n",
    "        x_{0|0}\n",
    "        \"\"\"\n",
    "        self.particles = self.system_noise.generate(self.n_particles)\n",
    "\n",
    "    def update(self, y):\n",
    "        \"\"\"リサンプリング\n",
    "        \"\"\"\n",
    "        if isinstance(y, float):\n",
    "            y = np.array([y])\n",
    "        self._update_particles()\n",
    "        self._update_particles_weight(y)\n",
    "        self._resample()\n",
    "\n",
    "    def forecast(self):\n",
    "        \"\"\"長期予測\n",
    "        \"\"\"\n",
    "        self.particles = self.transition_func(self.particles)\n",
    "        return self.observation_func(self.particles).mean(axis=1)\n",
    "\n",
    "    def generate_system_noise(self):\n",
    "        \"\"\"\n",
    "        後述する自己組織化粒子フィルタを記述する際に都合が良いため\n",
    "        当該メソッドを分離しておく\n",
    "        v_t\n",
    "        \"\"\"\n",
    "        return self.system_noise.generate(self.n_particles)\n",
    "\n",
    "    def _update_particles(self):\n",
    "        \"\"\"システムモデルの計算（新たな粒子を生成することで予測分布を計算）\n",
    "        x_{t|t-1}\n",
    "        \"\"\"\n",
    "        self.predicted_particles = (self.transition_func(self.particles)\n",
    "                                    + self.generate_system_noise())\n",
    "\n",
    "    def _update_particles_weight(self, y):\n",
    "        \"\"\"各粒子の重みの計算（予測値が観測値に対してどれだけ適合しているかを計算）\n",
    "        w_t\n",
    "        \"\"\"\n",
    "        self.weights = self.observation_noise.pdf(\n",
    "            y, self.observation_func(self.predicted_particles))\n",
    "\n",
    "    def _normalize_weights(self):\n",
    "        \"\"\"\\tild{w}_t\"\"\"\n",
    "        self.weights = self.weights / sum(self.weights)\n",
    "\n",
    "    def _resample(self):\n",
    "        \"\"\"x_{t|t}\"\"\"\n",
    "        self._normalize_weights()\n",
    "        cum = np.cumsum(self.weights)\n",
    "\n",
    "        # ルーレットを回す（粒子をランダムに選定するためのポインター生成）\n",
    "        base = uniform(0, float(1.0)/self.n_particles)\n",
    "        pointers = self.TEETH + base\n",
    "\n",
    "        # 粒子の選定\n",
    "        self.selected_idx = [np.where(cum>=p)[0][0] for p in pointers]\n",
    "        self.particles = self.predicted_particles[:, self.selected_idx]\n",
    "\n",
    "    def predict(self):\n",
    "        \"\"\"フィルタ系列の推定\n",
    "        \"\"\"\n",
    "        return (np.sum(\n",
    "            self.observation_func(self.predicted_particles) * self.weights,\n",
    "            axis=1))"
   ]
  },
  {
   "cell_type": "code",
   "execution_count": 3,
   "metadata": {},
   "outputs": [],
   "source": [
    "# 推移行列などの初期化\n",
    "def FGHset(n_dim_trend, n_dim_obs=1, n_dim_series=0, Q_sigma2=10):\n",
    "    n_dim_Q = (n_dim_trend!=0) + (n_dim_series!=0)\n",
    "    if n_dim_series>0:\n",
    "        n_dim_state = n_dim_trend + n_dim_series - 1\n",
    "    else:\n",
    "        n_dim_state = n_dim_trend\n",
    "    \n",
    "    # 行列の初期化\n",
    "    G = np.zeros((n_dim_state, n_dim_Q))\n",
    "    F = np.zeros((n_dim_state, n_dim_state))\n",
    "    H = np.zeros((n_dim_obs, n_dim_state))\n",
    "    Q = np.eye(n_dim_Q) * Q_sigma2\n",
    "    \n",
    "    ## トレンドモデルのブロック行列の構築\n",
    "    G[0,0] = 1\n",
    "    H[0,0] = 1\n",
    "    if n_dim_trend==1: \n",
    "        F[0,0] = 1\n",
    "    elif n_dim_trend==2:\n",
    "        F[0,0] = 2\n",
    "        F[0,1] = -1\n",
    "        F[1,0] = 1\n",
    "    elif n_dim_trend==3:\n",
    "        F[0,0] = 3\n",
    "        F[0,1] = -3\n",
    "        F[0,2] = 1\n",
    "        F[1,0] = 1\n",
    "        F[2,1] = 1\n",
    "        \n",
    "    start_elem = n_dim_trend\n",
    "    start_col = n_dim_trend\n",
    "    # 季節調整成分のブロック行列の構築\n",
    "    if n_dim_series>0:\n",
    "        G[start_elem, start_col-1] = 1\n",
    "        H[0, start_elem] = 1\n",
    "        for i in range(n_dim_series-1): \n",
    "            F[start_elem, start_elem+i] = -1\n",
    "        for i in range(n_dim_series-2): \n",
    "            F[start_elem+i+1, start_elem+i] = 1\n",
    "    \n",
    "    # PyKalmanのQはG.dot(Q).dot(G.T)を想定しているためQをupdate\n",
    "    Q = G.dot(Q).dot(G.T)\n",
    "    \n",
    "    return n_dim_state, F, H, Q"
   ]
  },
  {
   "cell_type": "code",
   "execution_count": 5,
   "metadata": {},
   "outputs": [],
   "source": [
    "import requests\n",
    "import io\n",
    "\n",
    "# 月ごとの飛行機の乗客数データ\n",
    "url = \"https://www.analyticsvidhya.com/wp-content/uploads/2016/02/AirPassengers.csv\"\n",
    "stream = requests.get(url).content\n",
    "df_content = pd.read_csv(io.StringIO(stream.decode('utf-8')))\n",
    "df_content['Month'] = pd.to_datetime(df_content['Month'], infer_datetime_format=True)\n",
    "y = pd.Series(df_content[\"#Passengers\"].values, index=df_content['Month'])\n",
    "y = y.astype('f')"
   ]
  },
  {
   "cell_type": "code",
   "execution_count": 6,
   "metadata": {
    "scrolled": true
   },
   "outputs": [
    {
     "data": {
      "text/plain": [
       "[<matplotlib.lines.Line2D at 0x19493ccd080>]"
      ]
     },
     "execution_count": 6,
     "metadata": {},
     "output_type": "execute_result"
    },
    {
     "data": {
      "image/png": "[encoded data removed]",
      "text/plain": [
       "<Figure size 432x288 with 1 Axes>"
      ]
     },
     "metadata": {
      "needs_background": "light"
     },
     "output_type": "display_data"
    }
   ],
   "source": [
    "# 観測値の次元数\n",
    "n_dim_obs = 1\n",
    "# トレンドの次元数\n",
    "n_dim_trend = 2\n",
    "# 季節成分の次元数\n",
    "n_dim_series = 12\n",
    "# 粒子数\n",
    "n_particles = 200\n",
    "# システムノイズの分散共分散行列の対角要素の値\n",
    "system_sigma2 = 150\n",
    "\n",
    "# 推移行列などの定義\n",
    "n_dim_state, F, H, Q = FGHset(n_dim_trend,\n",
    "                              n_dim_obs,\n",
    "                              n_dim_series,\n",
    "                              Q_sigma2=system_sigma2)\n",
    "\n",
    "observation_sigma2 = 100\n",
    "transition_func = lambda x: F.dot(x)\n",
    "observation_func = lambda x: H.dot(x)\n",
    "system_noise = GaussianNoise(Q)\n",
    "observation_noise = GaussianNoise(np.eye(n_dim_obs)*observation_sigma2)\n",
    "\n",
    "pf = ParticleFilter(n_dim_state=n_dim_state, \n",
    "                    n_dim_obs=n_dim_obs,\n",
    "                    transition_func=transition_func,\n",
    "                    observation_func=observation_func,\n",
    "                    system_noise=system_noise,\n",
    "                    observation_noise=observation_noise,\n",
    "                    n_particles=n_particles)\n",
    "\n",
    "n_train = 120\n",
    "predicted_value = np.empty(len(y[:n_train]))\n",
    "for i, d in enumerate(y[:n_train]):\n",
    "    pf.update(d)\n",
    "    predicted_value[i] = pf.predict()\n",
    "\n",
    "rng = range(len(predicted_value))\n",
    "plt.plot(rng, y[:n_train], label=\"observation\")\n",
    "plt.plot(rng, predicted_value, '--', label=\"predict\")"
   ]
  },
  {
   "cell_type": "code",
   "execution_count": 8,
   "metadata": {
    "scrolled": false
   },
   "outputs": [
    {
     "data": {
      "text/plain": [
       "[<matplotlib.lines.Line2D at 0x19494018cf8>]"
      ]
     },
     "execution_count": 8,
     "metadata": {},
     "output_type": "execute_result"
    },
    {
     "data": {
      "image/png": "[encoded data removed]",
      "text/plain": [
       "<Figure size 432x288 with 1 Axes>"
      ]
     },
     "metadata": {
      "needs_background": "light"
     },
     "output_type": "display_data"
    }
   ],
   "source": [
    "infered_value = np.empty(len(y[n_train:]))\n",
    "for i, d in enumerate(y[n_train:]):\n",
    "    infered_value[i] = pf.forecast()\n",
    "\n",
    "rng = range(len(y))\n",
    "plt.plot(rng, y.values, label=\"observation\")\n",
    "plt.plot(rng, \n",
    "         np.concatenate([predicted_value, infered_value]), \n",
    "         '--', label=\"forecast\")"
   ]
  },
  {
   "cell_type": "code",
   "execution_count": null,
   "metadata": {},
   "outputs": [],
   "source": []
  }
 ],
 "metadata": {
  "kernelspec": {
   "display_name": "Python 3",
   "language": "python",
   "name": "python3"
  },
  "language_info": {
   "codemirror_mode": {
    "name": "ipython",
    "version": 3
   },
   "file_extension": ".py",
   "mimetype": "text/x-python",
   "name": "python",
   "nbconvert_exporter": "python",
   "pygments_lexer": "ipython3",
   "version": "3.7.3"
  }
 },
 "nbformat": 4,
 "nbformat_minor": 2
}
