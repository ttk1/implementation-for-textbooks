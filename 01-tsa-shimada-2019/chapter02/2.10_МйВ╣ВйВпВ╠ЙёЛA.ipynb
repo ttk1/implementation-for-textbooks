{
 "cells": [
  {
   "cell_type": "code",
   "execution_count": 1,
   "metadata": {},
   "outputs": [],
   "source": [
    "%matplotlib inline\n",
    "import numpy as np\n",
    "np.random.seed(555)\n",
    "import matplotlib.pyplot as plt\n",
    "import pandas as pd\n",
    "from datetime import datetime\n",
    "# pandas-datareaderをインストールしていない場合は、事前にインストールが必要\n",
    "import pandas_datareader.data as web"
   ]
  },
  {
   "cell_type": "code",
   "execution_count": 2,
   "metadata": {},
   "outputs": [],
   "source": [
    "from statsmodels.graphics import tsaplots\n",
    "from statsmodels.tsa import stattools\n",
    "from statsmodels.tsa import arima_model"
   ]
  },
  {
   "cell_type": "code",
   "execution_count": 3,
   "metadata": {},
   "outputs": [],
   "source": [
    "# ニューヨーク取引所におけるSony Corp(SNE)の10か月分の日時データを取得\n",
    "# 1月1日, 1月2日は取引所の休業日のためデータがない\n",
    "st = datetime(2017, 1, 1)\n",
    "end = datetime(2017, 10, 31)\n",
    "\n",
    "y = web.DataReader('SNE', 'yahoo', start=st, end=end)"
   ]
  },
  {
   "cell_type": "code",
   "execution_count": 4,
   "metadata": {
    "scrolled": false
   },
   "outputs": [
    {
     "data": {
      "text/html": [
       "<div>\n",
       "<style scoped>\n",
       "    .dataframe tbody tr th:only-of-type {\n",
       "        vertical-align: middle;\n",
       "    }\n",
       "\n",
       "    .dataframe tbody tr th {\n",
       "        vertical-align: top;\n",
       "    }\n",
       "\n",
       "    .dataframe thead th {\n",
       "        text-align: right;\n",
       "    }\n",
       "</style>\n",
       "<table border=\"1\" class=\"dataframe\">\n",
       "  <thead>\n",
       "    <tr style=\"text-align: right;\">\n",
       "      <th></th>\n",
       "      <th>High</th>\n",
       "      <th>Low</th>\n",
       "      <th>Open</th>\n",
       "      <th>Close</th>\n",
       "      <th>Volume</th>\n",
       "      <th>Adj Close</th>\n",
       "    </tr>\n",
       "    <tr>\n",
       "      <th>Date</th>\n",
       "      <th></th>\n",
       "      <th></th>\n",
       "      <th></th>\n",
       "      <th></th>\n",
       "      <th></th>\n",
       "      <th></th>\n",
       "    </tr>\n",
       "  </thead>\n",
       "  <tbody>\n",
       "    <tr>\n",
       "      <th>2017-01-03</th>\n",
       "      <td>28.320000</td>\n",
       "      <td>28.040001</td>\n",
       "      <td>28.100000</td>\n",
       "      <td>28.290001</td>\n",
       "      <td>894900.0</td>\n",
       "      <td>27.862141</td>\n",
       "    </tr>\n",
       "    <tr>\n",
       "      <th>2017-01-04</th>\n",
       "      <td>28.660000</td>\n",
       "      <td>28.420000</td>\n",
       "      <td>28.480000</td>\n",
       "      <td>28.580000</td>\n",
       "      <td>910500.0</td>\n",
       "      <td>28.147753</td>\n",
       "    </tr>\n",
       "    <tr>\n",
       "      <th>2017-01-05</th>\n",
       "      <td>28.790001</td>\n",
       "      <td>28.430000</td>\n",
       "      <td>28.540001</td>\n",
       "      <td>28.719999</td>\n",
       "      <td>1027500.0</td>\n",
       "      <td>28.285635</td>\n",
       "    </tr>\n",
       "    <tr>\n",
       "      <th>2017-01-06</th>\n",
       "      <td>29.040001</td>\n",
       "      <td>28.530001</td>\n",
       "      <td>28.570000</td>\n",
       "      <td>28.959999</td>\n",
       "      <td>964800.0</td>\n",
       "      <td>28.522007</td>\n",
       "    </tr>\n",
       "    <tr>\n",
       "      <th>2017-01-09</th>\n",
       "      <td>28.950001</td>\n",
       "      <td>28.740000</td>\n",
       "      <td>28.740000</td>\n",
       "      <td>28.820000</td>\n",
       "      <td>648700.0</td>\n",
       "      <td>28.384127</td>\n",
       "    </tr>\n",
       "  </tbody>\n",
       "</table>\n",
       "</div>"
      ],
      "text/plain": [
       "                 High        Low       Open      Close     Volume  Adj Close\n",
       "Date                                                                        \n",
       "2017-01-03  28.320000  28.040001  28.100000  28.290001   894900.0  27.862141\n",
       "2017-01-04  28.660000  28.420000  28.480000  28.580000   910500.0  28.147753\n",
       "2017-01-05  28.790001  28.430000  28.540001  28.719999  1027500.0  28.285635\n",
       "2017-01-06  29.040001  28.530001  28.570000  28.959999   964800.0  28.522007\n",
       "2017-01-09  28.950001  28.740000  28.740000  28.820000   648700.0  28.384127"
      ]
     },
     "execution_count": 4,
     "metadata": {},
     "output_type": "execute_result"
    }
   ],
   "source": [
    "y.head()"
   ]
  },
  {
   "cell_type": "code",
   "execution_count": 5,
   "metadata": {},
   "outputs": [],
   "source": [
    "x_factor = np.random.randn(len(y)).cumsum()"
   ]
  },
  {
   "cell_type": "code",
   "execution_count": 6,
   "metadata": {
    "scrolled": true
   },
   "outputs": [
    {
     "data": {
      "text/plain": [
       "[<matplotlib.lines.Line2D at 0x133ae6abc50>]"
      ]
     },
     "execution_count": 6,
     "metadata": {},
     "output_type": "execute_result"
    },
    {
     "data": {
      "image/png": "[encoded data removed]",
      "text/plain": [
       "<Figure size 432x288 with 1 Axes>"
      ]
     },
     "metadata": {
      "needs_background": "light"
     },
     "output_type": "display_data"
    }
   ],
   "source": [
    "plt.plot(x_factor)"
   ]
  },
  {
   "cell_type": "code",
   "execution_count": 7,
   "metadata": {},
   "outputs": [
    {
     "name": "stdout",
     "output_type": "stream",
     "text": [
      "ctt:\n",
      "(-3.276140248692092, 0.18055268521654616, 0, 209, {'1%': -4.4274325368239005, '5%': -3.860945830959756, '10%': -3.5708981838796694}, 548.2149334388492)\n",
      "ct:\n",
      "(-2.578802328098802, 0.28974534760725545, 0, 209, {'1%': -4.0027517721652925, '5%': -3.4317085320958416, '10%': -3.139513599307244}, 550.8496330199099)\n",
      "c:\n",
      "(-0.7802896890497649, 0.824843373790451, 0, 209, {'1%': -3.4620315036789666, '5%': -2.8754705024827127, '10%': -2.5741950726860647}, 553.8238810464757)\n",
      "nc:\n",
      "(-0.5437474331701213, 0.47806007973947223, 0, 209, {'1%': -2.576520641468831, '5%': -1.942358783170154, '10%': -1.6156085405816791}, 553.6246793325887)\n"
     ]
    }
   ],
   "source": [
    "# x_factorのADF検定\n",
    "# 当然単位根過程となる\n",
    "# トレンド項あり（2次まで）、定数項あり\n",
    "ctt = stattools.adfuller(x_factor, regression=\"ctt\")\n",
    "# トレンド項あり（1次）、定数項あり\n",
    "ct = stattools.adfuller(x_factor, regression=\"ct\")\n",
    "# トレンド項なし、定数項あり\n",
    "c = stattools.adfuller(x_factor, regression=\"c\")\n",
    "# トレンド項なし、定数項なし\n",
    "nc = stattools.adfuller(x_factor, regression=\"nc\")\n",
    "print('ctt:')\n",
    "print(ctt)\n",
    "print('ct:')\n",
    "print(ct)\n",
    "print('c:')\n",
    "print(c)\n",
    "print('nc:')\n",
    "print(nc)"
   ]
  },
  {
   "cell_type": "code",
   "execution_count": 8,
   "metadata": {},
   "outputs": [
    {
     "name": "stdout",
     "output_type": "stream",
     "text": [
      "ctt:\n",
      "(-1.7430362995575495, 0.8977245289316549, 1, 208, {'1%': -4.42770753779568, '5%': -3.8610846253947146, '10%': -3.5709836356350633}, 306.4008588489894)\n",
      "ct:\n",
      "(-2.2025964663907316, 0.4883892677298745, 1, 208, {'1%': -4.002966509244673, '5%': -3.43181159172131, '10%': -3.139573978276485}, 304.6027052661152)\n",
      "c:\n",
      "(-0.8138677943630335, 0.8150145292024813, 1, 208, {'1%': -3.4621857592784546, '5%': -2.875537986778846, '10%': -2.574231080806213}, 306.56290529746735)\n",
      "nc:\n",
      "(1.676139794011456, 0.9776209940954025, 1, 208, {'1%': -2.5765728725961536, '5%': -1.942365654803603, '10%': -1.615602989499175}, 305.0634077469417)\n"
     ]
    }
   ],
   "source": [
    "# y.CloseのADF検定\n",
    "# 当然単位根過程となる\n",
    "# トレンド項あり（2次まで）、定数項あり\n",
    "ctt = stattools.adfuller(y.Close, regression=\"ctt\")\n",
    "# トレンド項あり（1次）、定数項あり\n",
    "ct = stattools.adfuller(y.Close, regression=\"ct\")\n",
    "# トレンド項なし、定数項あり\n",
    "c = stattools.adfuller(y.Close, regression=\"c\")\n",
    "# トレンド項なし、定数項なし\n",
    "nc = stattools.adfuller(y.Close, regression=\"nc\")\n",
    "print('ctt:')\n",
    "print(ctt)\n",
    "print('ct:')\n",
    "print(ct)\n",
    "print('c:')\n",
    "print(c)\n",
    "print('nc:')\n",
    "print(nc)"
   ]
  },
  {
   "cell_type": "code",
   "execution_count": 9,
   "metadata": {},
   "outputs": [],
   "source": [
    "from statsmodels.api import OLS\n",
    "\n",
    "model = OLS(y.Close, x_factor)\n",
    "results = model.fit()"
   ]
  },
  {
   "cell_type": "code",
   "execution_count": 10,
   "metadata": {},
   "outputs": [
    {
     "data": {
      "text/html": [
       "<table class=\"simpletable\">\n",
       "<caption>OLS Regression Results</caption>\n",
       "<tr>\n",
       "  <th>Dep. Variable:</th>          <td>Close</td>      <th>  R-squared:         </th> <td>   0.100</td>\n",
       "</tr>\n",
       "<tr>\n",
       "  <th>Model:</th>                   <td>OLS</td>       <th>  Adj. R-squared:    </th> <td>   0.096</td>\n",
       "</tr>\n",
       "<tr>\n",
       "  <th>Method:</th>             <td>Least Squares</td>  <th>  F-statistic:       </th> <td>   23.30</td>\n",
       "</tr>\n",
       "<tr>\n",
       "  <th>Date:</th>             <td>Thu, 25 Jul 2019</td> <th>  Prob (F-statistic):</th> <td>2.68e-06</td>\n",
       "</tr>\n",
       "<tr>\n",
       "  <th>Time:</th>                 <td>13:40:26</td>     <th>  Log-Likelihood:    </th> <td> -1037.7</td>\n",
       "</tr>\n",
       "<tr>\n",
       "  <th>No. Observations:</th>      <td>   210</td>      <th>  AIC:               </th> <td>   2077.</td>\n",
       "</tr>\n",
       "<tr>\n",
       "  <th>Df Residuals:</th>          <td>   209</td>      <th>  BIC:               </th> <td>   2081.</td>\n",
       "</tr>\n",
       "<tr>\n",
       "  <th>Df Model:</th>              <td>     1</td>      <th>                     </th>     <td> </td>   \n",
       "</tr>\n",
       "<tr>\n",
       "  <th>Covariance Type:</th>      <td>nonrobust</td>    <th>                     </th>     <td> </td>   \n",
       "</tr>\n",
       "</table>\n",
       "<table class=\"simpletable\">\n",
       "<tr>\n",
       "   <td></td>     <th>coef</th>     <th>std err</th>      <th>t</th>      <th>P>|t|</th>  <th>[0.025</th>    <th>0.975]</th>  \n",
       "</tr>\n",
       "<tr>\n",
       "  <th>x1</th> <td>   -2.2013</td> <td>    0.456</td> <td>   -4.827</td> <td> 0.000</td> <td>   -3.100</td> <td>   -1.302</td>\n",
       "</tr>\n",
       "</table>\n",
       "<table class=\"simpletable\">\n",
       "<tr>\n",
       "  <th>Omnibus:</th>       <td>22.013</td> <th>  Durbin-Watson:     </th> <td>   0.004</td>\n",
       "</tr>\n",
       "<tr>\n",
       "  <th>Prob(Omnibus):</th> <td> 0.000</td> <th>  Jarque-Bera (JB):  </th> <td>  14.117</td>\n",
       "</tr>\n",
       "<tr>\n",
       "  <th>Skew:</th>          <td>-0.500</td> <th>  Prob(JB):          </th> <td>0.000860</td>\n",
       "</tr>\n",
       "<tr>\n",
       "  <th>Kurtosis:</th>      <td> 2.216</td> <th>  Cond. No.          </th> <td>    1.00</td>\n",
       "</tr>\n",
       "</table><br/><br/>Warnings:<br/>[1] Standard Errors assume that the covariance matrix of the errors is correctly specified."
      ],
      "text/plain": [
       "<class 'statsmodels.iolib.summary.Summary'>\n",
       "\"\"\"\n",
       "                            OLS Regression Results                            \n",
       "==============================================================================\n",
       "Dep. Variable:                  Close   R-squared:                       0.100\n",
       "Model:                            OLS   Adj. R-squared:                  0.096\n",
       "Method:                 Least Squares   F-statistic:                     23.30\n",
       "Date:                Thu, 25 Jul 2019   Prob (F-statistic):           2.68e-06\n",
       "Time:                        13:40:26   Log-Likelihood:                -1037.7\n",
       "No. Observations:                 210   AIC:                             2077.\n",
       "Df Residuals:                     209   BIC:                             2081.\n",
       "Df Model:                           1                                         \n",
       "Covariance Type:            nonrobust                                         \n",
       "==============================================================================\n",
       "                 coef    std err          t      P>|t|      [0.025      0.975]\n",
       "------------------------------------------------------------------------------\n",
       "x1            -2.2013      0.456     -4.827      0.000      -3.100      -1.302\n",
       "==============================================================================\n",
       "Omnibus:                       22.013   Durbin-Watson:                   0.004\n",
       "Prob(Omnibus):                  0.000   Jarque-Bera (JB):               14.117\n",
       "Skew:                          -0.500   Prob(JB):                     0.000860\n",
       "Kurtosis:                       2.216   Cond. No.                         1.00\n",
       "==============================================================================\n",
       "\n",
       "Warnings:\n",
       "[1] Standard Errors assume that the covariance matrix of the errors is correctly specified.\n",
       "\"\"\""
      ]
     },
     "execution_count": 10,
     "metadata": {},
     "output_type": "execute_result"
    }
   ],
   "source": [
    "results.summary()"
   ]
  },
  {
   "cell_type": "code",
   "execution_count": null,
   "metadata": {
    "collapsed": true
   },
   "outputs": [],
   "source": []
  }
 ],
 "metadata": {
  "kernelspec": {
   "display_name": "Python 3",
   "language": "python",
   "name": "python3"
  },
  "language_info": {
   "codemirror_mode": {
    "name": "ipython",
    "version": 3
   },
   "file_extension": ".py",
   "mimetype": "text/x-python",
   "name": "python",
   "nbconvert_exporter": "python",
   "pygments_lexer": "ipython3",
   "version": "3.7.3"
  }
 },
 "nbformat": 4,
 "nbformat_minor": 2
}
