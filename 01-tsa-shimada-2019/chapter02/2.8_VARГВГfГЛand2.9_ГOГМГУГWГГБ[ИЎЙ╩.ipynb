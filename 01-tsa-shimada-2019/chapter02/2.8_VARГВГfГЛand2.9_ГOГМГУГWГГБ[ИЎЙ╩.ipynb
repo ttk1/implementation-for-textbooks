{
 "cells": [
  {
   "cell_type": "code",
   "execution_count": 1,
   "metadata": {},
   "outputs": [],
   "source": [
    "%matplotlib inline\n",
    "import numpy as np\n",
    "np.random.seed(555)\n",
    "import matplotlib.pyplot as plt\n",
    "import pandas as pd"
   ]
  },
  {
   "cell_type": "code",
   "execution_count": 2,
   "metadata": {},
   "outputs": [],
   "source": [
    "import statsmodels as sm\n",
    "from statsmodels.graphics import tsaplots\n",
    "from statsmodels.tsa import stattools\n",
    "from statsmodels.tsa.api import VAR, DynamicVAR"
   ]
  },
  {
   "cell_type": "code",
   "execution_count": 3,
   "metadata": {},
   "outputs": [
    {
     "data": {
      "text/html": [
       "<div>\n",
       "<style scoped>\n",
       "    .dataframe tbody tr th:only-of-type {\n",
       "        vertical-align: middle;\n",
       "    }\n",
       "\n",
       "    .dataframe tbody tr th {\n",
       "        vertical-align: top;\n",
       "    }\n",
       "\n",
       "    .dataframe thead th {\n",
       "        text-align: right;\n",
       "    }\n",
       "</style>\n",
       "<table border=\"1\" class=\"dataframe\">\n",
       "  <thead>\n",
       "    <tr style=\"text-align: right;\">\n",
       "      <th></th>\n",
       "      <th>year</th>\n",
       "      <th>quarter</th>\n",
       "      <th>realgdp</th>\n",
       "      <th>realcons</th>\n",
       "      <th>realinv</th>\n",
       "      <th>realgovt</th>\n",
       "      <th>realdpi</th>\n",
       "      <th>cpi</th>\n",
       "      <th>m1</th>\n",
       "      <th>tbilrate</th>\n",
       "      <th>unemp</th>\n",
       "      <th>pop</th>\n",
       "      <th>infl</th>\n",
       "      <th>realint</th>\n",
       "    </tr>\n",
       "  </thead>\n",
       "  <tbody>\n",
       "    <tr>\n",
       "      <th>0</th>\n",
       "      <td>1959.0</td>\n",
       "      <td>1.0</td>\n",
       "      <td>2710.349</td>\n",
       "      <td>1707.4</td>\n",
       "      <td>286.898</td>\n",
       "      <td>470.045</td>\n",
       "      <td>1886.9</td>\n",
       "      <td>28.98</td>\n",
       "      <td>139.7</td>\n",
       "      <td>2.82</td>\n",
       "      <td>5.8</td>\n",
       "      <td>177.146</td>\n",
       "      <td>0.00</td>\n",
       "      <td>0.00</td>\n",
       "    </tr>\n",
       "    <tr>\n",
       "      <th>1</th>\n",
       "      <td>1959.0</td>\n",
       "      <td>2.0</td>\n",
       "      <td>2778.801</td>\n",
       "      <td>1733.7</td>\n",
       "      <td>310.859</td>\n",
       "      <td>481.301</td>\n",
       "      <td>1919.7</td>\n",
       "      <td>29.15</td>\n",
       "      <td>141.7</td>\n",
       "      <td>3.08</td>\n",
       "      <td>5.1</td>\n",
       "      <td>177.830</td>\n",
       "      <td>2.34</td>\n",
       "      <td>0.74</td>\n",
       "    </tr>\n",
       "    <tr>\n",
       "      <th>2</th>\n",
       "      <td>1959.0</td>\n",
       "      <td>3.0</td>\n",
       "      <td>2775.488</td>\n",
       "      <td>1751.8</td>\n",
       "      <td>289.226</td>\n",
       "      <td>491.260</td>\n",
       "      <td>1916.4</td>\n",
       "      <td>29.35</td>\n",
       "      <td>140.5</td>\n",
       "      <td>3.82</td>\n",
       "      <td>5.3</td>\n",
       "      <td>178.657</td>\n",
       "      <td>2.74</td>\n",
       "      <td>1.09</td>\n",
       "    </tr>\n",
       "    <tr>\n",
       "      <th>3</th>\n",
       "      <td>1959.0</td>\n",
       "      <td>4.0</td>\n",
       "      <td>2785.204</td>\n",
       "      <td>1753.7</td>\n",
       "      <td>299.356</td>\n",
       "      <td>484.052</td>\n",
       "      <td>1931.3</td>\n",
       "      <td>29.37</td>\n",
       "      <td>140.0</td>\n",
       "      <td>4.33</td>\n",
       "      <td>5.6</td>\n",
       "      <td>179.386</td>\n",
       "      <td>0.27</td>\n",
       "      <td>4.06</td>\n",
       "    </tr>\n",
       "    <tr>\n",
       "      <th>4</th>\n",
       "      <td>1960.0</td>\n",
       "      <td>1.0</td>\n",
       "      <td>2847.699</td>\n",
       "      <td>1770.5</td>\n",
       "      <td>331.722</td>\n",
       "      <td>462.199</td>\n",
       "      <td>1955.5</td>\n",
       "      <td>29.54</td>\n",
       "      <td>139.6</td>\n",
       "      <td>3.50</td>\n",
       "      <td>5.2</td>\n",
       "      <td>180.007</td>\n",
       "      <td>2.31</td>\n",
       "      <td>1.19</td>\n",
       "    </tr>\n",
       "  </tbody>\n",
       "</table>\n",
       "</div>"
      ],
      "text/plain": [
       "     year  quarter   realgdp  realcons  realinv  realgovt  realdpi    cpi  \\\n",
       "0  1959.0      1.0  2710.349    1707.4  286.898   470.045   1886.9  28.98   \n",
       "1  1959.0      2.0  2778.801    1733.7  310.859   481.301   1919.7  29.15   \n",
       "2  1959.0      3.0  2775.488    1751.8  289.226   491.260   1916.4  29.35   \n",
       "3  1959.0      4.0  2785.204    1753.7  299.356   484.052   1931.3  29.37   \n",
       "4  1960.0      1.0  2847.699    1770.5  331.722   462.199   1955.5  29.54   \n",
       "\n",
       "      m1  tbilrate  unemp      pop  infl  realint  \n",
       "0  139.7      2.82    5.8  177.146  0.00     0.00  \n",
       "1  141.7      3.08    5.1  177.830  2.34     0.74  \n",
       "2  140.5      3.82    5.3  178.657  2.74     1.09  \n",
       "3  140.0      4.33    5.6  179.386  0.27     4.06  \n",
       "4  139.6      3.50    5.2  180.007  2.31     1.19  "
      ]
     },
     "execution_count": 3,
     "metadata": {},
     "output_type": "execute_result"
    }
   ],
   "source": [
    "# statsmodelsにdefaultで入っているマクロ経済学データを取得\n",
    "df_data = sm.datasets.macrodata.load_pandas().data\n",
    "\n",
    "# realgdp:実質GDP, realcons:実質個人消費支出, realinv:実質設備投資\n",
    "# 1959Q1-2009Q3\n",
    "df_data.head()"
   ]
  },
  {
   "cell_type": "code",
   "execution_count": 4,
   "metadata": {},
   "outputs": [],
   "source": [
    "# indexを年月日に変換しておく\n",
    "df_data.index = pd.date_range('1959', periods=51*4-1, freq='Q')\n",
    "# 必要なカラムのみを取得\n",
    "y = df_data[['realgdp','realcons','realinv']]"
   ]
  },
  {
   "cell_type": "code",
   "execution_count": 5,
   "metadata": {},
   "outputs": [
    {
     "name": "stdout",
     "output_type": "stream",
     "text": [
      "ctt realgdp:\n",
      "(-2.23162556344085, 0.7145024076165568, 12, 190, {'1%': -4.433161444379647, '5%': -3.8638358600379066, '10%': -3.572676939641347}, 2030.9096153927815)\n",
      "ctt realcons:\n",
      "(-3.0087027982374495, 0.2910505147103011, 3, 199, {'1%': -4.430309046694293, '5%': -3.8623972900169137, '10%': -3.5717916732395594}, 1787.2221616792606)\n",
      "ctt realinv:\n",
      "(-1.6319215466161374, 0.9226177810403522, 3, 199, {'1%': -4.430309046694293, '5%': -3.8623972900169137, '10%': -3.5717916732395594}, 1945.7305980020012)\n"
     ]
    }
   ],
   "source": [
    "ctt_realgdp = stattools.adfuller(y.realgdp, regression=\"ctt\")\n",
    "ctt_realcons = stattools.adfuller(y.realcons, regression=\"ctt\")\n",
    "ctt_realinv = stattools.adfuller(y.realinv, regression=\"ctt\")\n",
    "\n",
    "ct_realgdp = stattools.adfuller(y.realgdp, regression=\"ct\")\n",
    "c_realgdp = stattools.adfuller(y.realgdp, regression=\"c\") \n",
    "nc_realgdp = stattools.adfuller(y.realgdp, regression=\"nc\") \n",
    "\n",
    "ct_realcons = stattools.adfuller(y.realcons, regression=\"ct\")\n",
    "c_realcons = stattools.adfuller(y.realcons, regression=\"c\") \n",
    "nc_realcons = stattools.adfuller(y.realcons, regression=\"nc\")\n",
    "\n",
    "ct_realinv = stattools.adfuller(y.realinv, regression=\"ct\")\n",
    "c_realinv = stattools.adfuller(y.realinv, regression=\"c\") \n",
    "nc_realinv = stattools.adfuller(y.realinv, regression=\"nc\") \n",
    "\n",
    "# print(\"nc realgdp:\")\n",
    "# print(nc_realgdp) \n",
    "# print(\"nc realcons:\") \n",
    "# print(nc_realcons) \n",
    "# print(\"nc realinv:\") \n",
    "# print(nc_realinv)\n",
    "\n",
    "# print(\"c realgdp:\")\n",
    "# print(c_realgdp) \n",
    "# print(\"c realcons:\") \n",
    "# print(c_realcons) \n",
    "# print(\"c realinv:\") \n",
    "# print(c_realinv)\n",
    "\n",
    "# print(\"ct realgdp:\")\n",
    "# print(ct_realgdp) \n",
    "# print(\"ct realcons:\") \n",
    "# print(ct_realcons) \n",
    "# print(\"ct realinv:\") \n",
    "# print(ct_realinv)\n",
    "\n",
    "print(\"ctt realgdp:\")\n",
    "print(ctt_realgdp) \n",
    "print(\"ctt realcons:\") \n",
    "print(ctt_realcons) \n",
    "print(\"ctt realinv:\") \n",
    "print(ctt_realinv)"
   ]
  },
  {
   "cell_type": "markdown",
   "metadata": {
    "collapsed": true
   },
   "source": [
    "## 2階のdiffを取った場合"
   ]
  },
  {
   "cell_type": "code",
   "execution_count": 6,
   "metadata": {},
   "outputs": [],
   "source": [
    "# 2次の階差\n",
    "y_diff = y.diff().diff().dropna()"
   ]
  },
  {
   "cell_type": "code",
   "execution_count": 7,
   "metadata": {},
   "outputs": [
    {
     "data": {
      "text/html": [
       "<div>\n",
       "<style scoped>\n",
       "    .dataframe tbody tr th:only-of-type {\n",
       "        vertical-align: middle;\n",
       "    }\n",
       "\n",
       "    .dataframe tbody tr th {\n",
       "        vertical-align: top;\n",
       "    }\n",
       "\n",
       "    .dataframe thead th {\n",
       "        text-align: right;\n",
       "    }\n",
       "</style>\n",
       "<table border=\"1\" class=\"dataframe\">\n",
       "  <thead>\n",
       "    <tr style=\"text-align: right;\">\n",
       "      <th></th>\n",
       "      <th>realgdp</th>\n",
       "      <th>realcons</th>\n",
       "      <th>realinv</th>\n",
       "    </tr>\n",
       "  </thead>\n",
       "  <tbody>\n",
       "    <tr>\n",
       "      <th>1959-09-30</th>\n",
       "      <td>-71.765</td>\n",
       "      <td>-8.2</td>\n",
       "      <td>-45.594</td>\n",
       "    </tr>\n",
       "    <tr>\n",
       "      <th>1959-12-31</th>\n",
       "      <td>13.029</td>\n",
       "      <td>-16.2</td>\n",
       "      <td>31.763</td>\n",
       "    </tr>\n",
       "    <tr>\n",
       "      <th>1960-03-31</th>\n",
       "      <td>52.779</td>\n",
       "      <td>14.9</td>\n",
       "      <td>22.236</td>\n",
       "    </tr>\n",
       "    <tr>\n",
       "      <th>1960-06-30</th>\n",
       "      <td>-75.804</td>\n",
       "      <td>5.6</td>\n",
       "      <td>-65.936</td>\n",
       "    </tr>\n",
       "    <tr>\n",
       "      <th>1960-09-30</th>\n",
       "      <td>17.941</td>\n",
       "      <td>-29.5</td>\n",
       "      <td>31.793</td>\n",
       "    </tr>\n",
       "  </tbody>\n",
       "</table>\n",
       "</div>"
      ],
      "text/plain": [
       "            realgdp  realcons  realinv\n",
       "1959-09-30  -71.765      -8.2  -45.594\n",
       "1959-12-31   13.029     -16.2   31.763\n",
       "1960-03-31   52.779      14.9   22.236\n",
       "1960-06-30  -75.804       5.6  -65.936\n",
       "1960-09-30   17.941     -29.5   31.793"
      ]
     },
     "execution_count": 7,
     "metadata": {},
     "output_type": "execute_result"
    }
   ],
   "source": [
    "y_diff.head()"
   ]
  },
  {
   "cell_type": "code",
   "execution_count": 8,
   "metadata": {},
   "outputs": [
    {
     "name": "stdout",
     "output_type": "stream",
     "text": [
      "ctt realgdp_diff:\n",
      "(-5.730711170853159, 4.5129005984904305e-05, 14, 186, {'1%': -4.434519413562635, '5%': -3.864520481428023, '10%': -3.5730981406825575}, 2025.6464949041335)\n",
      "ctt realcons_diff:\n",
      "(-16.93087519175753, 7.342618607969787e-25, 1, 199, {'1%': -4.430309046694293, '5%': -3.8623972900169137, '10%': -3.5717916732395594}, 1792.6484152650387)\n",
      "ctt realinv_diff:\n",
      "(-8.24609938470208, 8.390408624174994e-11, 7, 193, {'1%': -4.432180562792867, '5%': -3.8633412462204713, '10%': -3.5723725968816216}, 1936.5507934933225)\n"
     ]
    }
   ],
   "source": [
    "ctt_realgdp_diff = stattools.adfuller(y_diff.realgdp, regression=\"ctt\")\n",
    "ctt_realcons_diff = stattools.adfuller(y_diff.realcons, regression=\"ctt\")\n",
    "ctt_realinv_diff = stattools.adfuller(y_diff.realinv, regression=\"ctt\")\n",
    "print(\"ctt realgdp_diff:\")\n",
    "print(ctt_realgdp_diff)\n",
    "print(\"ctt realcons_diff:\")\n",
    "print(ctt_realcons_diff)\n",
    "print(\"ctt realinv_diff:\")\n",
    "print(ctt_realinv_diff)"
   ]
  },
  {
   "cell_type": "code",
   "execution_count": 9,
   "metadata": {},
   "outputs": [
    {
     "data": {
      "text/html": [
       "<table class=\"simpletable\">\n",
       "<caption>VAR Order Selection (* highlights the minimums)</caption>\n",
       "<tr>\n",
       "   <td></td>      <th>AIC</th>         <th>BIC</th>         <th>FPE</th>        <th>HQIC</th>    \n",
       "</tr>\n",
       "<tr>\n",
       "  <th>0</th>  <td>     22.00</td>  <td>     22.05</td>  <td> 3.570e+09</td>  <td>     22.02</td> \n",
       "</tr>\n",
       "<tr>\n",
       "  <th>1</th>  <td>     21.20</td>  <td>     21.40</td>  <td> 1.607e+09</td>  <td>     21.28</td> \n",
       "</tr>\n",
       "<tr>\n",
       "  <th>2</th>  <td>     20.73</td>  <td>     21.09*</td> <td> 1.007e+09</td>  <td>     20.87</td> \n",
       "</tr>\n",
       "<tr>\n",
       "  <th>3</th>  <td>     20.61</td>  <td>     21.12</td>  <td> 8.953e+08</td>  <td>     20.82*</td>\n",
       "</tr>\n",
       "<tr>\n",
       "  <th>4</th>  <td>     20.58</td>  <td>     21.25</td>  <td> 8.701e+08</td>  <td>     20.85</td> \n",
       "</tr>\n",
       "<tr>\n",
       "  <th>5</th>  <td>     20.55</td>  <td>     21.37</td>  <td> 8.406e+08</td>  <td>     20.88</td> \n",
       "</tr>\n",
       "<tr>\n",
       "  <th>6</th>  <td>     20.59</td>  <td>     21.56</td>  <td> 8.748e+08</td>  <td>     20.98</td> \n",
       "</tr>\n",
       "<tr>\n",
       "  <th>7</th>  <td>     20.61</td>  <td>     21.74</td>  <td> 8.983e+08</td>  <td>     21.07</td> \n",
       "</tr>\n",
       "<tr>\n",
       "  <th>8</th>  <td>     20.50</td>  <td>     21.77</td>  <td> 8.009e+08</td>  <td>     21.01</td> \n",
       "</tr>\n",
       "<tr>\n",
       "  <th>9</th>  <td>     20.49*</td> <td>     21.92</td>  <td> 7.995e+08*</td> <td>     21.07</td> \n",
       "</tr>\n",
       "<tr>\n",
       "  <th>10</th> <td>     20.55</td>  <td>     22.14</td>  <td> 8.505e+08</td>  <td>     21.19</td> \n",
       "</tr>\n",
       "</table>"
      ],
      "text/plain": [
       "<class 'statsmodels.iolib.table.SimpleTable'>"
      ]
     },
     "execution_count": 9,
     "metadata": {},
     "output_type": "execute_result"
    }
   ],
   "source": [
    "# モデルの作成\n",
    "model_diff = VAR(y_diff)\n",
    "\n",
    "# 最適なハイパーパラメタ（ラグの次数）の探索\n",
    "model_diff.select_order(10).summary()"
   ]
  },
  {
   "cell_type": "code",
   "execution_count": 10,
   "metadata": {
    "scrolled": false
   },
   "outputs": [
    {
     "data": {
      "text/plain": [
       "  Summary of Regression Results   \n",
       "==================================\n",
       "Model:                         VAR\n",
       "Method:                        OLS\n",
       "Date:           Thu, 25, Jul, 2019\n",
       "Time:                     13:40:04\n",
       "--------------------------------------------------------------------\n",
       "No. of Equations:         3.00000    BIC:                    21.9079\n",
       "Nobs:                     192.000    HQIC:                   21.0600\n",
       "Log likelihood:          -2699.66    FPE:                7.91212e+08\n",
       "AIC:                      20.4828    Det(Omega_mle):     5.25930e+08\n",
       "--------------------------------------------------------------------\n",
       "Results for equation realgdp\n",
       "==============================================================================\n",
       "                 coefficient       std. error           t-stat            prob\n",
       "------------------------------------------------------------------------------\n",
       "const               0.352231         3.570180            0.099           0.921\n",
       "L1.realgdp         -1.247885         0.162953           -7.658           0.000\n",
       "L1.realcons         1.084603         0.212161            5.112           0.000\n",
       "L1.realinv          0.348446         0.200801            1.735           0.083\n",
       "L2.realgdp         -1.113375         0.227777           -4.888           0.000\n",
       "L2.realcons         1.458917         0.274373            5.317           0.000\n",
       "L2.realinv          0.214894         0.256314            0.838           0.402\n",
       "L3.realgdp         -1.201289         0.264611           -4.540           0.000\n",
       "L3.realcons         1.643437         0.313106            5.249           0.000\n",
       "L3.realinv          0.258869         0.297026            0.872           0.383\n",
       "L4.realgdp         -1.158100         0.287695           -4.025           0.000\n",
       "L4.realcons         1.540831         0.335685            4.590           0.000\n",
       "L4.realinv          0.495671         0.319816            1.550           0.121\n",
       "L5.realgdp         -1.114796         0.302466           -3.686           0.000\n",
       "L5.realcons         1.198746         0.343534            3.489           0.000\n",
       "L5.realinv          0.410151         0.331977            1.235           0.217\n",
       "L6.realgdp         -1.140106         0.304264           -3.747           0.000\n",
       "L6.realcons         1.430550         0.342515            4.177           0.000\n",
       "L6.realinv          0.520990         0.331061            1.574           0.116\n",
       "L7.realgdp         -1.169328         0.285298           -4.099           0.000\n",
       "L7.realcons         1.446455         0.334971            4.318           0.000\n",
       "L7.realinv          0.669876         0.312499            2.144           0.032\n",
       "L8.realgdp         -0.935261         0.254398           -3.676           0.000\n",
       "L8.realcons         0.921095         0.305941            3.011           0.003\n",
       "L8.realinv          0.421465         0.277929            1.516           0.129\n",
       "L9.realgdp         -0.440651         0.180958           -2.435           0.015\n",
       "L9.realcons         0.524468         0.237984            2.204           0.028\n",
       "L9.realinv          0.315725         0.205328            1.538           0.124\n",
       "==============================================================================\n",
       "\n",
       "Results for equation realcons\n",
       "==============================================================================\n",
       "                 coefficient       std. error           t-stat            prob\n",
       "------------------------------------------------------------------------------\n",
       "const               1.195015         2.018297            0.592           0.554\n",
       "L1.realgdp         -0.203873         0.092121           -2.213           0.027\n",
       "L1.realcons        -0.566795         0.119939           -4.726           0.000\n",
       "L1.realinv          0.245954         0.113517            2.167           0.030\n",
       "L2.realgdp         -0.361597         0.128767           -2.808           0.005\n",
       "L2.realcons        -0.200141         0.155109           -1.290           0.197\n",
       "L2.realinv          0.376111         0.144900            2.596           0.009\n",
       "L3.realgdp         -0.547475         0.149590           -3.660           0.000\n",
       "L3.realcons         0.210802         0.177005            1.191           0.234\n",
       "L3.realinv          0.484738         0.167915            2.887           0.004\n",
       "L4.realgdp         -0.757074         0.162640           -4.655           0.000\n",
       "L4.realcons         0.357161         0.189770            1.882           0.060\n",
       "L4.realinv          0.777500         0.180798            4.300           0.000\n",
       "L5.realgdp         -0.738767         0.170990           -4.321           0.000\n",
       "L5.realcons         0.335693         0.194207            1.729           0.084\n",
       "L5.realinv          0.744021         0.187674            3.964           0.000\n",
       "L6.realgdp         -0.662846         0.172007           -3.854           0.000\n",
       "L6.realcons         0.393409         0.193631            2.032           0.042\n",
       "L6.realinv          0.638098         0.187156            3.409           0.001\n",
       "L7.realgdp         -0.751278         0.161285           -4.658           0.000\n",
       "L7.realcons         0.579045         0.189366            3.058           0.002\n",
       "L7.realinv          0.687395         0.176662            3.891           0.000\n",
       "L8.realgdp         -0.543194         0.143816           -3.777           0.000\n",
       "L8.realcons         0.335079         0.172955            1.937           0.053\n",
       "L8.realinv          0.511003         0.157119            3.252           0.001\n",
       "L9.realgdp         -0.173919         0.102299           -1.700           0.089\n",
       "L9.realcons         0.098180         0.134538            0.730           0.466\n",
       "L9.realinv          0.220091         0.116076            1.896           0.058\n",
       "==============================================================================\n",
       "\n",
       "Results for equation realinv\n",
       "==============================================================================\n",
       "                 coefficient       std. error           t-stat            prob\n",
       "------------------------------------------------------------------------------\n",
       "const              -1.278235         2.560032           -0.499           0.618\n",
       "L1.realgdp         -0.063357         0.116847           -0.542           0.588\n",
       "L1.realcons         0.745145         0.152132            4.898           0.000\n",
       "L1.realinv         -0.746566         0.143986           -5.185           0.000\n",
       "L2.realgdp          0.051753         0.163329            0.317           0.751\n",
       "L2.realcons         0.828240         0.196742            4.210           0.000\n",
       "L2.realinv         -0.827122         0.183792           -4.500           0.000\n",
       "L3.realgdp         -0.055092         0.189742           -0.290           0.772\n",
       "L3.realcons         0.731903         0.224516            3.260           0.001\n",
       "L3.realinv         -0.673629         0.212985           -3.163           0.002\n",
       "L4.realgdp         -0.046314         0.206294           -0.225           0.822\n",
       "L4.realcons         0.745184         0.240706            3.096           0.002\n",
       "L4.realinv         -0.481416         0.229327           -2.099           0.036\n",
       "L5.realgdp         -0.119902         0.216886           -0.553           0.580\n",
       "L5.realcons         0.460269         0.246334            1.868           0.062\n",
       "L5.realinv         -0.407875         0.238048           -1.713           0.087\n",
       "L6.realgdp         -0.406428         0.218175           -1.863           0.062\n",
       "L6.realcons         0.751209         0.245604            3.059           0.002\n",
       "L6.realinv         -0.018668         0.237391           -0.079           0.937\n",
       "L7.realgdp         -0.386427         0.204576           -1.889           0.059\n",
       "L7.realcons         0.613108         0.240195            2.553           0.011\n",
       "L7.realinv          0.069317         0.224081            0.309           0.757\n",
       "L8.realgdp         -0.322333         0.182419           -1.767           0.077\n",
       "L8.realcons         0.336192         0.219378            1.532           0.125\n",
       "L8.realinv         -0.084225         0.199292           -0.423           0.673\n",
       "L9.realgdp         -0.215587         0.129757           -1.661           0.097\n",
       "L9.realcons         0.200933         0.170649            1.177           0.239\n",
       "L9.realinv          0.080880         0.147233            0.549           0.583\n",
       "==============================================================================\n",
       "\n",
       "Correlation matrix of residuals\n",
       "             realgdp  realcons   realinv\n",
       "realgdp     1.000000  0.516204  0.692511\n",
       "realcons    0.516204  1.000000 -0.029880\n",
       "realinv     0.692511 -0.029880  1.000000\n",
       "\n"
      ]
     },
     "execution_count": 10,
     "metadata": {},
     "output_type": "execute_result"
    }
   ],
   "source": [
    "# AIC基準で最適なハイパーパラメタを選択したモデルのあてはめ\n",
    "result_diff = model_diff.fit(maxlags=10, ic='aic')\n",
    "# あてはめの結果を表示\n",
    "result_diff.summary()"
   ]
  },
  {
   "cell_type": "code",
   "execution_count": 11,
   "metadata": {},
   "outputs": [
    {
     "data": {
      "text/plain": [
       "9"
      ]
     },
     "execution_count": 11,
     "metadata": {},
     "output_type": "execute_result"
    }
   ],
   "source": [
    "result_diff.k_ar"
   ]
  },
  {
   "cell_type": "code",
   "execution_count": 12,
   "metadata": {},
   "outputs": [
    {
     "name": "stdout",
     "output_type": "stream",
     "text": [
      "FEVD for realgdp\n",
      "      realgdp  realcons   realinv\n",
      "0    1.000000  0.000000  0.000000\n",
      "1    0.892571  0.096255  0.011175\n",
      "2    0.887540  0.097189  0.015271\n",
      "3    0.883109  0.095237  0.021655\n",
      "\n",
      "FEVD for realcons\n",
      "      realgdp  realcons   realinv\n",
      "0    0.266466  0.733534  0.000000\n",
      "1    0.283437  0.697520  0.019043\n",
      "2    0.282337  0.698602  0.019061\n",
      "3    0.281744  0.698428  0.019828\n",
      "\n",
      "FEVD for realinv\n",
      "      realgdp  realcons   realinv\n",
      "0    0.479571  0.204551  0.315877\n",
      "1    0.289142  0.461684  0.249174\n",
      "2    0.292990  0.459687  0.247323\n",
      "3    0.305582  0.449273  0.245145\n",
      "\n",
      "\n"
     ]
    }
   ],
   "source": [
    "fevd_diff = result_diff.fevd(4)\n",
    "fevd_diff.summary()"
   ]
  },
  {
   "cell_type": "code",
   "execution_count": 13,
   "metadata": {},
   "outputs": [
    {
     "data": {
      "image/png": "[encoded data removed]",
      "text/plain": [
       "<Figure size 720x720 with 3 Axes>"
      ]
     },
     "execution_count": 13,
     "metadata": {},
     "output_type": "execute_result"
    },
    {
     "data": {
      "image/png": "[encoded data removed]",
      "text/plain": [
       "<Figure size 720x720 with 3 Axes>"
      ]
     },
     "metadata": {
      "needs_background": "light"
     },
     "output_type": "display_data"
    }
   ],
   "source": [
    "# 予測誤差に対する各変数の起因割合\n",
    "result_diff.fevd(4).plot()"
   ]
  },
  {
   "cell_type": "markdown",
   "metadata": {},
   "source": [
    "# グレンジャー因果検定"
   ]
  },
  {
   "cell_type": "code",
   "execution_count": 14,
   "metadata": {},
   "outputs": [
    {
     "name": "stdout",
     "output_type": "stream",
     "text": [
      "Granger causality F-test. H_0: %s do not Granger-cause realgdp. Conclusion: reject H_0 at 5% significance level.\n",
      "===============================================\n",
      "Test statistic Critical value p-value     df   \n",
      "-----------------------------------------------\n",
      "    3.964          1.625       0.000  (18, 492)\n",
      "-----------------------------------------------\n",
      "Granger causality F-test. H_0: %s do not Granger-cause realinv. Conclusion: reject H_0 at 5% significance level.\n",
      "===============================================\n",
      "Test statistic Critical value p-value     df   \n",
      "-----------------------------------------------\n",
      "    6.364          1.625       0.000  (18, 492)\n",
      "-----------------------------------------------\n",
      "Granger causality F-test. H_0: %s do not Granger-cause realcons. Conclusion: reject H_0 at 5% significance level.\n",
      "===============================================\n",
      "Test statistic Critical value p-value     df   \n",
      "-----------------------------------------------\n",
      "    2.395          1.625       0.001  (18, 492)\n",
      "-----------------------------------------------\n"
     ]
    }
   ],
   "source": [
    "from copy import deepcopy\n",
    "\n",
    "var_names = ['realgdp', 'realinv', 'realcons']\n",
    "# 各変数とその他の変数群の因果\n",
    "for i in range(len(var_names)):\n",
    "    vs = deepcopy(var_names)\n",
    "    print(result_diff.test_causality(vs.pop(i), vs, kind='f').summary())"
   ]
  },
  {
   "cell_type": "code",
   "execution_count": 15,
   "metadata": {
    "scrolled": false
   },
   "outputs": [
    {
     "name": "stdout",
     "output_type": "stream",
     "text": [
      "Granger causality F-test. H_0: realinv does not Granger-cause realgdp. Conclusion: fail to reject H_0 at 5% significance level.\n",
      "==============================================\n",
      "Test statistic Critical value p-value    df   \n",
      "----------------------------------------------\n",
      "    1.026          1.899       0.418  (9, 492)\n",
      "----------------------------------------------\n",
      "Granger causality F-test. H_0: realcons does not Granger-cause realgdp. Conclusion: reject H_0 at 5% significance level.\n",
      "==============================================\n",
      "Test statistic Critical value p-value    df   \n",
      "----------------------------------------------\n",
      "    6.306          1.899       0.000  (9, 492)\n",
      "----------------------------------------------\n",
      "Granger causality F-test. H_0: realgdp does not Granger-cause realinv. Conclusion: fail to reject H_0 at 5% significance level.\n",
      "==============================================\n",
      "Test statistic Critical value p-value    df   \n",
      "----------------------------------------------\n",
      "    1.024          1.899       0.419  (9, 492)\n",
      "----------------------------------------------\n",
      "Granger causality F-test. H_0: realcons does not Granger-cause realinv. Conclusion: reject H_0 at 5% significance level.\n",
      "==============================================\n",
      "Test statistic Critical value p-value    df   \n",
      "----------------------------------------------\n",
      "    4.255          1.899       0.000  (9, 492)\n",
      "----------------------------------------------\n",
      "Granger causality F-test. H_0: realgdp does not Granger-cause realcons. Conclusion: reject H_0 at 5% significance level.\n",
      "==============================================\n",
      "Test statistic Critical value p-value    df   \n",
      "----------------------------------------------\n",
      "    3.985          1.899       0.000  (9, 492)\n",
      "----------------------------------------------\n",
      "Granger causality F-test. H_0: realinv does not Granger-cause realcons. Conclusion: reject H_0 at 5% significance level.\n",
      "==============================================\n",
      "Test statistic Critical value p-value    df   \n",
      "----------------------------------------------\n",
      "    3.085          1.899       0.001  (9, 492)\n",
      "----------------------------------------------\n"
     ]
    }
   ],
   "source": [
    "var_names = ['realgdp', 'realinv', 'realcons']\n",
    "# 各変数とその他の変数（単体）の因果\n",
    "for i in range(len(var_names)):\n",
    "    vs = deepcopy(var_names)\n",
    "    tv = vs.pop(i)\n",
    "    for v in vs:\n",
    "        print(result_diff.test_causality(tv, v, kind='f').summary())"
   ]
  },
  {
   "cell_type": "code",
   "execution_count": null,
   "metadata": {},
   "outputs": [],
   "source": []
  }
 ],
 "metadata": {
  "kernelspec": {
   "display_name": "Python 3",
   "language": "python",
   "name": "python3"
  },
  "language_info": {
   "codemirror_mode": {
    "name": "ipython",
    "version": 3
   },
   "file_extension": ".py",
   "mimetype": "text/x-python",
   "name": "python",
   "nbconvert_exporter": "python",
   "pygments_lexer": "ipython3",
   "version": "3.7.3"
  }
 },
 "nbformat": 4,
 "nbformat_minor": 2
}
